{
 "cells": [
  {
   "cell_type": "markdown",
   "metadata": {},
   "source": [
    "# what you need to learn?\n",
    " - create strings \n",
    " - indexing and slicing\n",
    " - string methods \n",
    "    - formatting methods \n",
    "    - validation methods\n",
    "    - utility methods \n",
    " - python built- in function for strings \n",
    "    - len()\n",
    "    - str()\n",
    "    - ord()\n",
    "    - chr()\n",
    "    - eval()\n"
   ]
  },
  {
   "cell_type": "code",
   "execution_count": null,
   "metadata": {},
   "outputs": [],
   "source": [
    "my_strings = 'hello'\n",
    "print(my_strings)\n",
    "\n",
    "my_strings = \"hello\"\n",
    "print(my_strings)\n",
    "\n",
    "my_strings = '''hello'''\n",
    "print(my_strings)\n",
    "\n",
    "#triple quotes strings can extended multiple lines \n",
    "\n",
    "my_strings = \"\"\" hello \n",
    "                 my name is bhupendra singh \"\"\"\n",
    "print(my_strings)\n"
   ]
  },
  {
   "cell_type": "code",
   "execution_count": 1,
   "metadata": {},
   "outputs": [
    {
     "name": "stdout",
     "output_type": "stream",
     "text": [
      "str= digipodium\n",
      "str[0]=  d\n",
      "str[1]=  i\n",
      "str[-1]=  m\n",
      "str[-2]=  u\n"
     ]
    }
   ],
   "source": [
    "# accesing string characters in python \n",
    "\n",
    "str = 'digipodium'\n",
    "print('str=', str)\n",
    "\n",
    "#first character \n",
    "print('str[0]= ' , str[0])\n",
    "\n",
    "#second character \n",
    "print('str[1]= ' , str[1])\n",
    "\n",
    "#last character \n",
    "print('str[-1]= ' , str[-1])\n",
    "\n",
    "#second last character \n",
    "print('str[-2]= ' , str[-2])"
   ]
  },
  {
   "cell_type": "code",
   "execution_count": 5,
   "metadata": {},
   "outputs": [
    {
     "ename": "NameError",
     "evalue": "name 'x' is not defined",
     "output_type": "error",
     "traceback": [
      "\u001b[1;31m---------------------------------------------------------------------------\u001b[0m",
      "\u001b[1;31mNameError\u001b[0m                                 Traceback (most recent call last)",
      "\u001b[1;32mc:\\Users\\Bhuperndra Singh\\Documents\\strings\\basics.ipynb Cell 4\u001b[0m line \u001b[0;36m1\n\u001b[1;32m----> <a href='vscode-notebook-cell:/c%3A/Users/Bhuperndra%20Singh/Documents/strings/basics.ipynb#W5sZmlsZQ%3D%3D?line=0'>1</a>\u001b[0m \u001b[39mprint\u001b[39m(x(\u001b[39m0\u001b[39m))\n",
      "\u001b[1;31mNameError\u001b[0m: name 'x' is not defined"
     ]
    }
   ],
   "source": [
    "print(x(0))"
   ]
  },
  {
   "cell_type": "code",
   "execution_count": null,
   "metadata": {},
   "outputs": [],
   "source": []
  },
  {
   "cell_type": "markdown",
   "metadata": {},
   "source": [
    "- string slicing = do find part of string "
   ]
  },
  {
   "cell_type": "code",
   "execution_count": 6,
   "metadata": {},
   "outputs": [
    {
     "name": "stdout",
     "output_type": "stream",
     "text": [
      "pod\n"
     ]
    }
   ],
   "source": [
    "#getting a slice \n",
    "\n",
    "s = 'digipodium'\n",
    "slice1 = s[4:7]\n",
    "print(slice1)"
   ]
  },
  {
   "cell_type": "code",
   "execution_count": 8,
   "metadata": {},
   "outputs": [],
   "source": [
    "name = 'Bhupendra Singh Adhikari' "
   ]
  },
  {
   "cell_type": "code",
   "execution_count": 10,
   "metadata": {},
   "outputs": [
    {
     "data": {
      "text/plain": [
       "'Bhupendra '"
      ]
     },
     "execution_count": 10,
     "metadata": {},
     "output_type": "execute_result"
    }
   ],
   "source": [
    "name[0:10]"
   ]
  },
  {
   "cell_type": "code",
   "execution_count": 12,
   "metadata": {},
   "outputs": [
    {
     "data": {
      "text/plain": [
       "'Bhupendra Singh'"
      ]
     },
     "execution_count": 12,
     "metadata": {},
     "output_type": "execute_result"
    }
   ],
   "source": [
    "name[0:15]"
   ]
  },
  {
   "cell_type": "code",
   "execution_count": 13,
   "metadata": {},
   "outputs": [
    {
     "data": {
      "text/plain": [
       "'Bhupendra Singh Adhikari'"
      ]
     },
     "execution_count": 13,
     "metadata": {},
     "output_type": "execute_result"
    }
   ],
   "source": [
    "name[0:24]"
   ]
  },
  {
   "cell_type": "code",
   "execution_count": 15,
   "metadata": {},
   "outputs": [
    {
     "data": {
      "text/plain": [
       "'Singh'"
      ]
     },
     "execution_count": 15,
     "metadata": {},
     "output_type": "execute_result"
    }
   ],
   "source": [
    "name[10:15]"
   ]
  },
  {
   "cell_type": "code",
   "execution_count": 19,
   "metadata": {},
   "outputs": [
    {
     "data": {
      "text/plain": [
       "'Adhikari'"
      ]
     },
     "execution_count": 19,
     "metadata": {},
     "output_type": "execute_result"
    }
   ],
   "source": [
    "name[-8:]"
   ]
  },
  {
   "cell_type": "code",
   "execution_count": 26,
   "metadata": {},
   "outputs": [
    {
     "name": "stdout",
     "output_type": "stream",
     "text": [
      "35000\n",
      "35000\n"
     ]
    }
   ],
   "source": [
    "price = 'Rs.35000 only'\n",
    "\n",
    "print(int(price[3:8]))\n",
    "print(int(price[3:3+5]))"
   ]
  },
  {
   "cell_type": "code",
   "execution_count": 37,
   "metadata": {},
   "outputs": [
    {
     "name": "stdout",
     "output_type": "stream",
     "text": [
      "peare\n",
      "are\n",
      "William\n",
      "Shake\n"
     ]
    }
   ],
   "source": [
    "word = \"William Shakespeare\"\n",
    "\n",
    "print(word[-5:])\n",
    "print(word[-3:])\n",
    "print(word[0:7])\n",
    "print(word[8:13])\n"
   ]
  },
  {
   "cell_type": "code",
   "execution_count": 31,
   "metadata": {},
   "outputs": [
    {
     "data": {
      "text/plain": [
       "'are'"
      ]
     },
     "execution_count": 31,
     "metadata": {},
     "output_type": "execute_result"
    }
   ],
   "source": [
    "word[-3:]"
   ]
  },
  {
   "cell_type": "code",
   "execution_count": 34,
   "metadata": {},
   "outputs": [
    {
     "data": {
      "text/plain": [
       "'William'"
      ]
     },
     "execution_count": 34,
     "metadata": {},
     "output_type": "execute_result"
    }
   ],
   "source": [
    "word[0:7]"
   ]
  },
  {
   "cell_type": "code",
   "execution_count": 35,
   "metadata": {},
   "outputs": [
    {
     "data": {
      "text/plain": [
       "'Shake'"
      ]
     },
     "execution_count": 35,
     "metadata": {},
     "output_type": "execute_result"
    }
   ],
   "source": [
    "word[8:13]"
   ]
  },
  {
   "cell_type": "markdown",
   "metadata": {},
   "source": [
    "- slicing syntax\n",
    "\n",
    "```\n",
    "   var[start:stop] \n",
    "   var[stat:stop:step]\n",
    " ```"
   ]
  },
  {
   "cell_type": "markdown",
   "metadata": {},
   "source": []
  },
  {
   "cell_type": "code",
   "execution_count": 41,
   "metadata": {},
   "outputs": [
    {
     "name": "stdout",
     "output_type": "stream",
     "text": [
      "Wli\n",
      "WlimSaepae\n"
     ]
    }
   ],
   "source": [
    "print(word[:6:2])\n",
    "print(word[::2])"
   ]
  },
  {
   "cell_type": "code",
   "execution_count": 42,
   "metadata": {},
   "outputs": [
    {
     "data": {
      "text/plain": [
       "'irakihdA hgniS ardnepuhB'"
      ]
     },
     "execution_count": 42,
     "metadata": {},
     "output_type": "execute_result"
    }
   ],
   "source": [
    "#reverse a string \n",
    "\n",
    "name[::-1]"
   ]
  },
  {
   "cell_type": "code",
   "execution_count": null,
   "metadata": {},
   "outputs": [],
   "source": [
    "#builtin function for strings \n",
    "chr()\n",
    "ord()\n",
    "len()\n",
    "str()"
   ]
  },
  {
   "cell_type": "code",
   "execution_count": 43,
   "metadata": {},
   "outputs": [
    {
     "name": "stdout",
     "output_type": "stream",
     "text": [
      "A\n",
      "ऽ\n",
      "き\n"
     ]
    }
   ],
   "source": [
    "x = chr (65)\n",
    "print(x)\n",
    "x = chr(2365)\n",
    "print(x)\n",
    "x= chr(12365)\n",
    "print(x)"
   ]
  },
  {
   "cell_type": "code",
   "execution_count": null,
   "metadata": {},
   "outputs": [],
   "source": []
  },
  {
   "cell_type": "code",
   "execution_count": 46,
   "metadata": {},
   "outputs": [
    {
     "name": "stdout",
     "output_type": "stream",
     "text": [
      "7\n",
      "5\n",
      "4\n"
     ]
    }
   ],
   "source": [
    "#len\n",
    "\n",
    "print(len(\"amazing\"))\n",
    "print(len(\"world\"))\n",
    "size = len(\"hope\")\n",
    "print(size)"
   ]
  },
  {
   "cell_type": "code",
   "execution_count": 48,
   "metadata": {},
   "outputs": [
    {
     "data": {
      "text/plain": [
       "'hi there'"
      ]
     },
     "execution_count": 48,
     "metadata": {},
     "output_type": "execute_result"
    }
   ],
   "source": [
    "#concatination \n",
    "\n",
    "'hi'+ ' there'"
   ]
  },
  {
   "cell_type": "code",
   "execution_count": 50,
   "metadata": {},
   "outputs": [
    {
     "data": {
      "text/plain": [
       "'💊💊💊💊💊'"
      ]
     },
     "execution_count": 50,
     "metadata": {},
     "output_type": "execute_result"
    }
   ],
   "source": [
    "#duplication \n",
    "\n",
    "'💊' * 5"
   ]
  },
  {
   "cell_type": "code",
   "execution_count": null,
   "metadata": {},
   "outputs": [],
   "source": []
  }
 ],
 "metadata": {
  "kernelspec": {
   "display_name": "base",
   "language": "python",
   "name": "python3"
  },
  "language_info": {
   "codemirror_mode": {
    "name": "ipython",
    "version": 3
   },
   "file_extension": ".py",
   "mimetype": "text/x-python",
   "name": "python",
   "nbconvert_exporter": "python",
   "pygments_lexer": "ipython3",
   "version": "3.11.4"
  },
  "orig_nbformat": 4
 },
 "nbformat": 4,
 "nbformat_minor": 2
}
