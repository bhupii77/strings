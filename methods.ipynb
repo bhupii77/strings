{
 "cells": [
  {
   "cell_type": "markdown",
   "metadata": {},
   "source": [
    "#strings methods \n",
    "- formatting\n",
    "  - upper()\n",
    "  - lower()\n",
    "  - capitalize()\n",
    "  - title ()\n",
    "  - swapcase()\n",
    "  - casefold()\n",
    "- searching \n",
    "  - find()\n",
    "  - index()\n",
    "  - rfind  \n",
    "  - rindex()\n",
    "  - "
   ]
  },
  {
   "cell_type": "code",
   "execution_count": 2,
   "metadata": {},
   "outputs": [],
   "source": [
    "msg = \"This is an Example of a MESSAGE STRING\""
   ]
  },
  {
   "cell_type": "code",
   "execution_count": 3,
   "metadata": {},
   "outputs": [
    {
     "data": {
      "text/plain": [
       "'THIS IS AN EXAMPLE OF A MESSAGE STRING'"
      ]
     },
     "execution_count": 3,
     "metadata": {},
     "output_type": "execute_result"
    }
   ],
   "source": [
    "msg.upper()"
   ]
  },
  {
   "cell_type": "code",
   "execution_count": 7,
   "metadata": {},
   "outputs": [],
   "source": [
    "msg_u= msg.upper()"
   ]
  },
  {
   "cell_type": "code",
   "execution_count": 8,
   "metadata": {},
   "outputs": [
    {
     "name": "stdout",
     "output_type": "stream",
     "text": [
      "THIS IS AN EXAMPLE OF A MESSAGE STRING\n"
     ]
    }
   ],
   "source": [
    "print(msg_u)"
   ]
  },
  {
   "cell_type": "code",
   "execution_count": 5,
   "metadata": {},
   "outputs": [
    {
     "name": "stdout",
     "output_type": "stream",
     "text": [
      "this is an example of a message string\n",
      "This is an example of a message string\n",
      "This Is An Example Of A Message String\n",
      "tHIS IS AN eXAMPLE OF A message string\n",
      "this is an example of a message string\n"
     ]
    }
   ],
   "source": [
    "print(msg.lower())\n",
    "print(msg.capitalize())\n",
    "print(msg.title())\n",
    "print(msg.swapcase())\n",
    "print(msg.casefold())            "
   ]
  },
  {
   "cell_type": "code",
   "execution_count": 33,
   "metadata": {},
   "outputs": [
    {
     "name": "stdout",
     "output_type": "stream",
     "text": [
      "Bhupendra Singh Adhikari\n"
     ]
    }
   ],
   "source": [
    "name = (\"bhupendra singh adhikari\")\n",
    "print(name.title())"
   ]
  },
  {
   "cell_type": "code",
   "execution_count": 9,
   "metadata": {},
   "outputs": [
    {
     "data": {
      "text/plain": [
       "2"
      ]
     },
     "execution_count": 9,
     "metadata": {},
     "output_type": "execute_result"
    }
   ],
   "source": [
    "msg.find('is')"
   ]
  },
  {
   "cell_type": "code",
   "execution_count": 10,
   "metadata": {},
   "outputs": [
    {
     "data": {
      "text/plain": [
       "5"
      ]
     },
     "execution_count": 10,
     "metadata": {},
     "output_type": "execute_result"
    }
   ],
   "source": [
    "msg.find('is',3)"
   ]
  },
  {
   "cell_type": "code",
   "execution_count": 11,
   "metadata": {},
   "outputs": [
    {
     "data": {
      "text/plain": [
       "5"
      ]
     },
     "execution_count": 11,
     "metadata": {},
     "output_type": "execute_result"
    }
   ],
   "source": [
    "msg.find('is',5)"
   ]
  },
  {
   "cell_type": "code",
   "execution_count": 13,
   "metadata": {},
   "outputs": [
    {
     "data": {
      "text/plain": [
       "-1"
      ]
     },
     "execution_count": 13,
     "metadata": {},
     "output_type": "execute_result"
    }
   ],
   "source": [
    "msg.find('is',7)"
   ]
  },
  {
   "cell_type": "code",
   "execution_count": 12,
   "metadata": {},
   "outputs": [
    {
     "data": {
      "text/plain": [
       "2"
      ]
     },
     "execution_count": 12,
     "metadata": {},
     "output_type": "execute_result"
    }
   ],
   "source": [
    "msg.index('is')"
   ]
  },
  {
   "cell_type": "code",
   "execution_count": 14,
   "metadata": {},
   "outputs": [
    {
     "data": {
      "text/plain": [
       "19"
      ]
     },
     "execution_count": 14,
     "metadata": {},
     "output_type": "execute_result"
    }
   ],
   "source": [
    "msg.rfind('of')"
   ]
  },
  {
   "cell_type": "code",
   "execution_count": 15,
   "metadata": {},
   "outputs": [
    {
     "data": {
      "text/plain": [
       "3"
      ]
     },
     "execution_count": 15,
     "metadata": {},
     "output_type": "execute_result"
    }
   ],
   "source": [
    "msg.count('a')"
   ]
  },
  {
   "cell_type": "code",
   "execution_count": 18,
   "metadata": {},
   "outputs": [
    {
     "name": "stdout",
     "output_type": "stream",
     "text": [
      "True\n",
      "False\n",
      "False\n",
      "True\n",
      "True\n"
     ]
    }
   ],
   "source": [
    "name = 'Vijay'\n",
    "print(name.isalpha())\n",
    "print(name.isdigit())\n",
    "print(name.islower())\n",
    "print(name.isalnum())\n",
    "print(name.istitle())\n",
    "      "
   ]
  },
  {
   "cell_type": "code",
   "execution_count": 23,
   "metadata": {},
   "outputs": [
    {
     "name": "stdout",
     "output_type": "stream",
     "text": [
      "HelloMr. Alex\n",
      "HIMs.gupta\n",
      "HelloMr. Smith\n",
      "HelloMr.Vijay\n",
      "HIMs.Smith\n"
     ]
    }
   ],
   "source": [
    "guests=['Mr. Alex','Ms.gupta','Mr. Smith','Mr.Vijay','Ms.Smith']\n",
    "for name in guests:\n",
    "    if name.startswith('Mr.'):\n",
    "        print(f'Hello{name}')\n",
    "    elif name.startswith('Ms.'):\n",
    "        print(f'HI{name}')\n",
    "    else:\n",
    "        print(\"yo\")                         "
   ]
  },
  {
   "cell_type": "code",
   "execution_count": null,
   "metadata": {},
   "outputs": [],
   "source": [
    "files = ['file1.txt','file2.txt','file3.txt',\n",
    "         'file4.csv','file5.csv','file6.csv']\n",
    "\n",
    "for file in files:\n",
    "    if file.endswith('txt'): print(f\"{file} text\")\n",
    "    elif file.endswith()"
   ]
  },
  {
   "cell_type": "code",
   "execution_count": 24,
   "metadata": {},
   "outputs": [],
   "source": [
    "poem = '''johny johny yes papa\n",
    "          Eating sugar? no papa\n",
    "          telling lies ? no papa\n",
    "          open your mouth ha ha ha'''"
   ]
  },
  {
   "cell_type": "code",
   "execution_count": 25,
   "metadata": {},
   "outputs": [
    {
     "name": "stdout",
     "output_type": "stream",
     "text": [
      "johny johny yes papa\n",
      "          Eating sugar? no papa\n",
      "          telling lies ? no papa\n",
      "          open your mouth ha ha ha\n"
     ]
    }
   ],
   "source": [
    "print(poem)"
   ]
  },
  {
   "cell_type": "code",
   "execution_count": 27,
   "metadata": {},
   "outputs": [
    {
     "data": {
      "text/plain": [
       "['johny',\n",
       " 'johny',\n",
       " 'yes',\n",
       " 'papa',\n",
       " 'Eating',\n",
       " 'sugar?',\n",
       " 'no',\n",
       " 'papa',\n",
       " 'telling',\n",
       " 'lies',\n",
       " '?',\n",
       " 'no',\n",
       " 'papa',\n",
       " 'open',\n",
       " 'your',\n",
       " 'mouth',\n",
       " 'ha',\n",
       " 'ha',\n",
       " 'ha']"
      ]
     },
     "execution_count": 27,
     "metadata": {},
     "output_type": "execute_result"
    }
   ],
   "source": [
    "poem.split()"
   ]
  },
  {
   "cell_type": "code",
   "execution_count": 28,
   "metadata": {},
   "outputs": [
    {
     "data": {
      "text/plain": [
       "['johny johny yes papa',\n",
       " '          Eating sugar? no papa',\n",
       " '          telling lies ? no papa',\n",
       " '          open your mouth ha ha ha']"
      ]
     },
     "execution_count": 28,
     "metadata": {},
     "output_type": "execute_result"
    }
   ],
   "source": [
    "poem.splitlines()"
   ]
  },
  {
   "cell_type": "code",
   "execution_count": 29,
   "metadata": {},
   "outputs": [
    {
     "data": {
      "text/plain": [
       "['johny johny yes papa\\n          Eating sugar? no papa\\n          telling lies ? no papa\\n          open your mouth ha ha ha']"
      ]
     },
     "execution_count": 29,
     "metadata": {},
     "output_type": "execute_result"
    }
   ],
   "source": [
    "poem.split(\",\")"
   ]
  },
  {
   "cell_type": "code",
   "execution_count": 31,
   "metadata": {},
   "outputs": [
    {
     "name": "stdout",
     "output_type": "stream",
     "text": [
      "movie1\n",
      "song1\n",
      "image1\n",
      "text101\n"
     ]
    }
   ],
   "source": [
    "files = ['movie1.mp4','song1.mp3','image1.jpg','text101.txt']\n",
    "for f in files :\n",
    "    name = f.split('.')[0]\n",
    "    print(name)"
   ]
  },
  {
   "cell_type": "code",
   "execution_count": 34,
   "metadata": {},
   "outputs": [
    {
     "name": "stdout",
     "output_type": "stream",
     "text": [
      "movie1.mp4, song1.mp3, image1.jpg, text101.txt\n"
     ]
    }
   ],
   "source": [
    "print(\", \".join(files))"
   ]
  },
  {
   "cell_type": "code",
   "execution_count": 35,
   "metadata": {},
   "outputs": [
    {
     "name": "stdout",
     "output_type": "stream",
     "text": [
      "C:/users/bhupii/downloads/image.jpg\n"
     ]
    }
   ],
   "source": [
    "path= ['C:', 'users','bhupii','downloads','image.jpg']\n",
    "print(\"/\".join(path))"
   ]
  },
  {
   "cell_type": "code",
   "execution_count": null,
   "metadata": {},
   "outputs": [],
   "source": []
  }
 ],
 "metadata": {
  "kernelspec": {
   "display_name": "base",
   "language": "python",
   "name": "python3"
  },
  "language_info": {
   "codemirror_mode": {
    "name": "ipython",
    "version": 3
   },
   "file_extension": ".py",
   "mimetype": "text/x-python",
   "name": "python",
   "nbconvert_exporter": "python",
   "pygments_lexer": "ipython3",
   "version": "3.11.4"
  },
  "orig_nbformat": 4
 },
 "nbformat": 4,
 "nbformat_minor": 2
}
